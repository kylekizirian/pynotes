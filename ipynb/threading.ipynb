{
 "cells": [
  {
   "cell_type": "markdown",
   "metadata": {},
   "source": [
    "## Get number of active threads with threading.Thread().active_count()"
   ]
  },
  {
   "cell_type": "markdown",
   "metadata": {},
   "source": [
    "## Use threading.Event() to end a thread"
   ]
  },
  {
   "cell_type": "code",
   "execution_count": 1,
   "metadata": {},
   "outputs": [],
   "source": [
    "import threading\n",
    "import time\n",
    "\n",
    "def spin_and_sleep(event: threading.Event):\n",
    "    count = 0\n",
    "    while not event.is_set():\n",
    "        pass"
   ]
  },
  {
   "cell_type": "code",
   "execution_count": 2,
   "metadata": {},
   "outputs": [
    {
     "name": "stdout",
     "output_type": "stream",
     "text": [
      "Before event.set() there are 10 active threads\n",
      "After event.set() there are 5 active threads\n"
     ]
    }
   ],
   "source": [
    "event = threading.Event()\n",
    "for _ in range(5):\n",
    "    thread = threading.Thread(target=spin_and_sleep, args=(event,))\n",
    "    thread.start()\n",
    "print(f'Before event.set() there are {threading.active_count()} active threads')\n",
    "event.set()\n",
    "time.sleep(0.1)\n",
    "print(f'After event.set() there are {threading.active_count()} active threads')"
   ]
  },
  {
   "cell_type": "markdown",
   "metadata": {},
   "source": [
    "## Use queues for producer/consumer\n",
    "\n",
    "Uses a dictionary where the keys are thread IDs and the value is another dictionary with the keys 'msgs_to_consume' and 'msg_queue'. A thread may register itself as interested in specific messages by adding its thread ID to the MSG_QUEUES dictionary and adding the messages it is interested in along with an empty queue for the producer to place messages in."
   ]
  },
  {
   "cell_type": "code",
   "execution_count": 3,
   "metadata": {},
   "outputs": [],
   "source": [
    "MSG_QUEUES = {}"
   ]
  },
  {
   "cell_type": "code",
   "execution_count": 4,
   "metadata": {},
   "outputs": [],
   "source": [
    "import queue\n",
    "\n",
    "class MessageConsumer:\n",
    "\n",
    "    def __init__(self, *args):\n",
    "        self._msgs_to_consume = set(args)\n",
    "\n",
    "    def __enter__(self):\n",
    "        \"\"\"Add this thread to MSG_QUEUES dict\"\"\"\n",
    "        MSG_QUEUES[threading.get_ident()] = {\n",
    "            'msgs_to_consume': self._msgs_to_consume,\n",
    "            'msg_queue': queue.Queue()\n",
    "        }\n",
    "        return self\n",
    "\n",
    "    def __exit__(self, exc_type, exc_value, traceback):\n",
    "        \"\"\"Remove msg consumer from queue\"\"\"\n",
    "        MSG_QUEUES.pop(threading.get_ident(), None)\n",
    "        if exc_type:\n",
    "            print(exc_type)\n",
    "            print(exc_value)\n",
    "            print(traceback)\n",
    "            return False\n",
    "        return True\n",
    "    \n",
    "    def get(self, block=True, timeout=None):\n",
    "        return MSG_QUEUES[threading.get_ident()]['msg_queue'].get(block=block, timeout=timeout)"
   ]
  },
  {
   "cell_type": "code",
   "execution_count": 5,
   "metadata": {},
   "outputs": [],
   "source": [
    "msgs_list = ['hello', 'list', 'of', 'words']"
   ]
  },
  {
   "cell_type": "code",
   "execution_count": 6,
   "metadata": {},
   "outputs": [],
   "source": [
    "import time\n",
    "\n",
    "def wait_and_print_msgs():\n",
    "\n",
    "    timeout = time.time() + 10\n",
    "\n",
    "    with MessageConsumer('hello') as ms:\n",
    "        while time.time() < timeout:\n",
    "            try:\n",
    "                new_msg = ms.get(timeout=5)\n",
    "            except queue.Empty:\n",
    "                print('No messages arrived in 5 seconds')\n",
    "                pass\n",
    "            else:\n",
    "                print(f'New msg received: {new_msg}')"
   ]
  },
  {
   "cell_type": "code",
   "execution_count": null,
   "metadata": {
    "scrolled": true
   },
   "outputs": [
    {
     "name": "stdout",
     "output_type": "stream",
     "text": [
      "new msg to put = words\n",
      "new msg to put = list\n",
      "new msg to put = words\n",
      "new msg to put = list\n",
      "new msg to put = hello\n",
      "found thread interested, putting hello\n",
      "New msg received: hello\n",
      "new msg to put = of\n",
      "new msg to put = hello\n",
      "found thread interested, putting hello\n",
      "New msg received: hello\n",
      "new msg to put = of\n",
      "new msg to put = of\n",
      "new msg to put = list\n",
      "new msg to put = hello\n",
      "found thread interested, putting hello\n",
      "New msg received: hello\n",
      "new msg to put = list\n",
      "new msg to put = words\n",
      "new msg to put = of\n",
      "new msg to put = hello\n",
      "found thread interested, putting hello\n",
      "New msg received: hello\n",
      "new msg to put = hello\n",
      "found thread interested, putting hello\n",
      "New msg received: hello\n",
      "new msg to put = list\n",
      "new msg to put = list\n",
      "new msg to put = of\n",
      "new msg to put = words\n",
      "new msg to put = words\n",
      "new msg to put = words\n",
      "new msg to put = hello\n",
      "found thread interested, putting hello\n",
      "New msg received: hello\n",
      "new msg to put = hello\n",
      "found thread interested, putting hello\n",
      "New msg received: hello\n",
      "new msg to put = list\n",
      "new msg to put = words\n",
      "new msg to put = list\n",
      "new msg to put = words\n",
      "new msg to put = list\n",
      "new msg to put = of\n",
      "new msg to put = words\n",
      "new msg to put = words\n",
      "new msg to put = of\n",
      "No messages arrived in 5 seconds\n",
      "new msg to put = words\n",
      "new msg to put = list\n",
      "new msg to put = of\n",
      "new msg to put = of\n",
      "new msg to put = words\n",
      "new msg to put = hello\n",
      "found thread interested, putting hello\n",
      "New msg received: hello\n",
      "new msg to put = of\n",
      "new msg to put = of\n",
      "new msg to put = of\n",
      "new msg to put = words\n",
      "new msg to put = of\n",
      "new msg to put = words\n",
      "new msg to put = hello\n",
      "found thread interested, putting hello\n",
      "New msg received: hello\n",
      "new msg to put = list\n",
      "new msg to put = list\n",
      "new msg to put = hello\n",
      "found thread interested, putting hello\n",
      "New msg received: hello\n",
      "new msg to put = hello\n",
      "found thread interested, putting hello\n",
      "New msg received: hello\n",
      "new msg to put = of\n"
     ]
    }
   ],
   "source": [
    "import random\n",
    "\n",
    "t = threading.Thread(target=wait_and_print_msgs)\n",
    "t.start()\n",
    "\n",
    "timeout = time.time() + 10\n",
    "\n",
    "while time.time() < timeout:\n",
    "    time.sleep(0.5)\n",
    "    new_msg = random.choice(msgs_list)\n",
    "    print(f'new msg to put = {new_msg}')\n",
    "    for thread_id in MSG_QUEUES:\n",
    "        if new_msg in MSG_QUEUES[thread_id]['msgs_to_consume']:\n",
    "            try:\n",
    "                print(f'found thread interested, putting {new_msg}')\n",
    "                MSG_QUEUES[thread_id]['msg_queue'].put(new_msg)\n",
    "            except KeyError:\n",
    "                pass"
   ]
  },
  {
   "cell_type": "code",
   "execution_count": null,
   "metadata": {},
   "outputs": [],
   "source": []
  }
 ],
 "metadata": {
  "kernelspec": {
   "display_name": "Python 3",
   "language": "python",
   "name": "python3"
  },
  "language_info": {
   "codemirror_mode": {
    "name": "ipython",
    "version": 3
   },
   "file_extension": ".py",
   "mimetype": "text/x-python",
   "name": "python",
   "nbconvert_exporter": "python",
   "pygments_lexer": "ipython3",
   "version": "3.6.8"
  }
 },
 "nbformat": 4,
 "nbformat_minor": 2
}
