{
 "cells": [
  {
   "cell_type": "markdown",
   "metadata": {},
   "source": [
    "## Use \\_\\_getattr\\_\\_ for dynamic attribute resolution"
   ]
  },
  {
   "cell_type": "code",
   "execution_count": 1,
   "metadata": {},
   "outputs": [],
   "source": [
    "class DictWrapper:\n",
    "\n",
    "    def __init__(self, dict_contents: dict):\n",
    "        self.dict_contents = dict_contents\n",
    "        \n",
    "    def __getattr__(self, attr):\n",
    "        try:\n",
    "            return self.dict_contents[attr]\n",
    "        except KeyError:\n",
    "            raise AttributeError"
   ]
  },
  {
   "cell_type": "code",
   "execution_count": 2,
   "metadata": {},
   "outputs": [],
   "source": [
    "test_dict: dict = {\n",
    "    'my_attribute': 'my_value'\n",
    "}\n",
    "dict_obj = DictWrapper(test_dict)"
   ]
  },
  {
   "cell_type": "code",
   "execution_count": 3,
   "metadata": {},
   "outputs": [],
   "source": [
    "assert dict_obj.my_attribute == 'my_value'"
   ]
  },
  {
   "cell_type": "code",
   "execution_count": 4,
   "metadata": {},
   "outputs": [
    {
     "name": "stdout",
     "output_type": "stream",
     "text": [
      "Received expected AttributeError!\n"
     ]
    }
   ],
   "source": [
    "try:\n",
    "    dict_obj.not_an_attribute\n",
    "except AttributeError:\n",
    "    print('Received expected AttributeError!')\n",
    "else:\n",
    "    assert False, 'Did not receieve expected AttributeError!'"
   ]
  },
  {
   "cell_type": "markdown",
   "metadata": {},
   "source": [
    "## Object assignment references original object"
   ]
  },
  {
   "cell_type": "code",
   "execution_count": 5,
   "metadata": {},
   "outputs": [],
   "source": [
    "class DummyClass: pass"
   ]
  },
  {
   "cell_type": "code",
   "execution_count": 6,
   "metadata": {},
   "outputs": [],
   "source": [
    "dummy = DummyClass()\n",
    "same_dummy = dummy\n",
    "assert dummy is same_dummy"
   ]
  },
  {
   "cell_type": "markdown",
   "metadata": {},
   "source": [
    "## Use copy to create a copy of an object instead of a reference"
   ]
  },
  {
   "cell_type": "code",
   "execution_count": 7,
   "metadata": {},
   "outputs": [],
   "source": [
    "import copy\n",
    "\n",
    "copy_dummy = copy.copy(dummy)\n",
    "assert dummy is not copy_dummy"
   ]
  },
  {
   "cell_type": "markdown",
   "metadata": {},
   "source": [
    "## User \\_\\_enter\\_\\_ and \\_\\_exit\\_\\_ to create a context manager"
   ]
  },
  {
   "cell_type": "code",
   "execution_count": 8,
   "metadata": {},
   "outputs": [],
   "source": [
    "import datetime\n",
    "import time\n",
    "\n",
    "\n",
    "class ContextTime:\n",
    "    \n",
    "    def __init__(self):\n",
    "        pass\n",
    "    \n",
    "    def __enter__(self):\n",
    "        self.enter_time = datetime.datetime.now()\n",
    "        str_enter_time = self.enter_time.strftime(\"%H:%M:%S\")\n",
    "        print(f\"Entered context manager at {str_enter_time}\")\n",
    "        \n",
    "    def __exit__(self, exception_type, exception_value, traceback):\n",
    "        self.exit_time = datetime.datetime.now()\n",
    "        str_exit_time = self.exit_time.strftime(\"%H:%M:%S\")\n",
    "        print(f\"Exited context manager at {str_exit_time}\")\n",
    "        time_in_context_manager = self.exit_time - self.enter_time\n",
    "        print(f\"Spent {time_in_context_manager.seconds} second(s) in context manager\")"
   ]
  },
  {
   "cell_type": "code",
   "execution_count": 9,
   "metadata": {},
   "outputs": [
    {
     "name": "stdout",
     "output_type": "stream",
     "text": [
      "Entered context manager at 22:37:22\n",
      "Exited context manager at 22:37:24\n",
      "Spent 2 second(s) in context manager\n"
     ]
    }
   ],
   "source": [
    "with ContextTime():\n",
    "    time.sleep(2)"
   ]
  },
  {
   "cell_type": "markdown",
   "metadata": {},
   "source": [
    "## Use decorators to resolve class attributes\n",
    "\n",
    "Note: this is neat but may or may not always be a good idea. The idea is that a function is meant to be called separately from \\_\\_init\\_\\_ that sets some important class attribute. If another method goes to use that function and does not have the attribute set, it can attempt to set it itself."
   ]
  },
  {
   "cell_type": "code",
   "execution_count": 10,
   "metadata": {},
   "outputs": [],
   "source": [
    "import functools\n",
    "import psutil\n",
    "\n",
    "def resolve_python_pid(func):\n",
    "    \"\"\"Tries resolving python's process id if not already set as self._py_pid\n",
    "    \n",
    "    First checks if self._py_pid is None in case python was not open using\n",
    "    open_py() method. If self._py_pid is not set, uses psutil process_iter to\n",
    "    iterate over running processes and determine if there is single python\n",
    "    instance running. If so, it uses the pid of that instance of python. If \n",
    "    there are 0 or multiple instances of python, it prints an error message.\n",
    "    \"\"\"\n",
    "\n",
    "    @functools.wraps(func)\n",
    "    def wrapper(self, *args, **kwargs):\n",
    "    \n",
    "        if self._py_pid is None:\n",
    "            py_pids = [\n",
    "                proc.pid for proc in psutil.process_iter() if self._py_proc_name in proc.name()\n",
    "            ]\n",
    "            assert len(py_pids) == 1, (\n",
    "                f'Could not resolve process ID for python. This function was '\n",
    "                f'called without first calling open_py() and attempted to resolve '\n",
    "                f'process ID by searching through running processes but there are '\n",
    "                f'{len(py_pids)} instances of python running.'\n",
    "            )\n",
    "            \n",
    "            self._py_pid = py_pids[0]\n",
    "\n",
    "        return func(self, *args, **kwargs)\n",
    "    return wrapper"
   ]
  },
  {
   "cell_type": "code",
   "execution_count": 11,
   "metadata": {},
   "outputs": [],
   "source": [
    "import subprocess\n",
    "import sys\n",
    "\n",
    "class PyLauncher:\n",
    "\n",
    "    def __init__(self):\n",
    "        self._py_path = sys.executable\n",
    "        self._py_proc_name = 'python'\n",
    "        self._py_pid = None\n",
    "\n",
    "    def open_py(self):\n",
    "        py_ = subprocess.Popen([self._py_path])\n",
    "        self._py_pid = py_.pid\n",
    "\n",
    "    @resolve_python_pid\n",
    "    def print_py_pid(self):\n",
    "        print(self._py_pid)"
   ]
  },
  {
   "cell_type": "code",
   "execution_count": 12,
   "metadata": {},
   "outputs": [
    {
     "name": "stdout",
     "output_type": "stream",
     "text": [
      "Could not resolve process ID for python. This function was called without first calling open_py() and attempted to resolve process ID by searching through running processes but there are 4 instances of python running.\n"
     ]
    }
   ],
   "source": [
    "pylaunch = PyLauncher()\n",
    "try:\n",
    "    pylaunch.print_py_pid()\n",
    "except AssertionError as e:\n",
    "    print(e)"
   ]
  },
  {
   "cell_type": "code",
   "execution_count": 13,
   "metadata": {},
   "outputs": [
    {
     "name": "stdout",
     "output_type": "stream",
     "text": [
      "15956\n"
     ]
    }
   ],
   "source": [
    "pylaunch.open_py()\n",
    "pylaunch.print_py_pid()"
   ]
  }
 ],
 "metadata": {
  "kernelspec": {
   "display_name": "Python 3",
   "language": "python",
   "name": "python3"
  },
  "language_info": {
   "codemirror_mode": {
    "name": "ipython",
    "version": 3
   },
   "file_extension": ".py",
   "mimetype": "text/x-python",
   "name": "python",
   "nbconvert_exporter": "python",
   "pygments_lexer": "ipython3",
   "version": "3.6.8"
  }
 },
 "nbformat": 4,
 "nbformat_minor": 2
}
