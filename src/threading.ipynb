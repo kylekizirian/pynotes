{
 "cells": [
  {
   "cell_type": "markdown",
   "metadata": {},
   "source": [
    "## Get number of active threads with threading.Thread().active_count()"
   ]
  },
  {
   "cell_type": "markdown",
   "metadata": {},
   "source": [
    "## Use threading.Event() to end a thread"
   ]
  },
  {
   "cell_type": "code",
   "execution_count": 1,
   "metadata": {},
   "outputs": [],
   "source": [
    "import threading\n",
    "import time\n",
    "\n",
    "def spin_and_sleep(event: threading.Event):\n",
    "    count = 0\n",
    "    while not event.is_set():\n",
    "        pass"
   ]
  },
  {
   "cell_type": "code",
   "execution_count": 2,
   "metadata": {},
   "outputs": [
    {
     "name": "stdout",
     "output_type": "stream",
     "text": [
      "Before event.set() there are 10 active threads\n",
      "After event.set() there are 5 active threads\n"
     ]
    }
   ],
   "source": [
    "event = threading.Event()\n",
    "for _ in range(5):\n",
    "    thread = threading.Thread(target=spin_and_sleep, args=(event,))\n",
    "    thread.start()\n",
    "print(f'Before event.set() there are {threading.active_count()} active threads')\n",
    "event.set()\n",
    "time.sleep(0.1)\n",
    "print(f'After event.set() there are {threading.active_count()} active threads')"
   ]
  }
 ],
 "metadata": {
  "kernelspec": {
   "display_name": "Python 3",
   "language": "python",
   "name": "python3"
  },
  "language_info": {
   "codemirror_mode": {
    "name": "ipython",
    "version": 3
   },
   "file_extension": ".py",
   "mimetype": "text/x-python",
   "name": "python",
   "nbconvert_exporter": "python",
   "pygments_lexer": "ipython3",
   "version": "3.6.8"
  }
 },
 "nbformat": 4,
 "nbformat_minor": 2
}
