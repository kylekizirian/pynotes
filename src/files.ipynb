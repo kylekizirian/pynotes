{
 "cells": [
  {
   "cell_type": "markdown",
   "metadata": {},
   "source": [
    "## Get the current working directory"
   ]
  },
  {
   "cell_type": "code",
   "execution_count": 1,
   "metadata": {},
   "outputs": [
    {
     "name": "stdout",
     "output_type": "stream",
     "text": [
      "/Users/Kyle/code/pynotes/src\n"
     ]
    }
   ],
   "source": [
    "from pathlib import Path\n",
    "cwd = Path().cwd()\n",
    "print(cwd)"
   ]
  },
  {
   "cell_type": "markdown",
   "metadata": {},
   "source": [
    "## Get files of given extension in cwd"
   ]
  },
  {
   "cell_type": "code",
   "execution_count": 2,
   "metadata": {},
   "outputs": [
    {
     "name": "stdout",
     "output_type": "stream",
     "text": [
      "iteration.ipynb\n",
      "classes.ipynb\n",
      "files.ipynb\n",
      "iteration-checkpoint.ipynb\n",
      "files-checkpoint.ipynb\n",
      "classes-checkpoint.ipynb\n"
     ]
    }
   ],
   "source": [
    "ipynb_files = list(cwd.glob('**/*.ipynb'))\n",
    "for ipynb_file in ipynb_files:\n",
    "    print(ipynb_file.name)"
   ]
  }
 ],
 "metadata": {
  "kernelspec": {
   "display_name": "Python 3",
   "language": "python",
   "name": "python3"
  },
  "language_info": {
   "codemirror_mode": {
    "name": "ipython",
    "version": 3
   },
   "file_extension": ".py",
   "mimetype": "text/x-python",
   "name": "python",
   "nbconvert_exporter": "python",
   "pygments_lexer": "ipython3",
   "version": "3.6.8"
  }
 },
 "nbformat": 4,
 "nbformat_minor": 2
}
