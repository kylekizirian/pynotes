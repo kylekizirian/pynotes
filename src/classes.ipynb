{
 "cells": [
  {
   "cell_type": "markdown",
   "metadata": {},
   "source": [
    "## Use \\_\\_getattr\\_\\_ for dynamic attribute resolution"
   ]
  },
  {
   "cell_type": "code",
   "execution_count": 1,
   "metadata": {},
   "outputs": [],
   "source": [
    "class DictWrapper:\n",
    "    \n",
    "    def __init__(self, dict_contents: dict):\n",
    "        self.dict_contents = dict_contents\n",
    "        \n",
    "    def __getattr__(self, attr):\n",
    "        try:\n",
    "            return self.dict_contents[attr]\n",
    "        except KeyError:\n",
    "            raise AttributeError"
   ]
  },
  {
   "cell_type": "code",
   "execution_count": 2,
   "metadata": {},
   "outputs": [],
   "source": [
    "test_dict: dict = {\n",
    "    'my_attribute': 'my_value'\n",
    "}\n",
    "dict_obj = DictWrapper(test_dict)"
   ]
  },
  {
   "cell_type": "code",
   "execution_count": 3,
   "metadata": {},
   "outputs": [],
   "source": [
    "assert dict_obj.my_attribute == 'my_value'"
   ]
  },
  {
   "cell_type": "code",
   "execution_count": 4,
   "metadata": {},
   "outputs": [
    {
     "name": "stdout",
     "output_type": "stream",
     "text": [
      "Received expected AttributeError\n"
     ]
    }
   ],
   "source": [
    "try:\n",
    "    dict_obj.not_an_attribute\n",
    "except AttributeError:\n",
    "    print('Received expected AttributeError')\n",
    "else:\n",
    "    assert False, 'Expected an AttributeError'"
   ]
  },
  {
   "cell_type": "markdown",
   "metadata": {},
   "source": [
    "## User \\_\\_enter\\_\\_ and \\_\\_exit\\_\\_ to create a context manager"
   ]
  },
  {
   "cell_type": "code",
   "execution_count": 5,
   "metadata": {},
   "outputs": [],
   "source": [
    "import datetime\n",
    "import time\n",
    "\n",
    "\n",
    "class ContextTime:\n",
    "    \n",
    "    def __init__(self):\n",
    "        pass\n",
    "    \n",
    "    def __enter__(self):\n",
    "        self.enter_time = datetime.datetime.now()\n",
    "        str_enter_time = self.enter_time.strftime(\"%H:%M:%S\")\n",
    "        print(f\"Entered context manager at {str_enter_time}\")\n",
    "        \n",
    "    def __exit__(self, exception_type, exception_value, traceback):\n",
    "        self.exit_time = datetime.datetime.now()\n",
    "        str_exit_time = self.exit_time.strftime(\"%H:%M:%S\")\n",
    "        print(f\"Exited context manager at {str_exit_time}\")\n",
    "        time_in_context_manager = self.exit_time - self.enter_time\n",
    "        print(f\"Spect {time_in_context_manager.seconds} second(s) in context manager\")"
   ]
  },
  {
   "cell_type": "code",
   "execution_count": 6,
   "metadata": {},
   "outputs": [
    {
     "name": "stdout",
     "output_type": "stream",
     "text": [
      "Entered context manager at 21:17:04\n",
      "Exited context manager at 21:17:06\n",
      "Spect 2 second(s) in context manager\n"
     ]
    }
   ],
   "source": [
    "with ContextTime():\n",
    "    time.sleep(2)"
   ]
  }
 ],
 "metadata": {
  "kernelspec": {
   "display_name": "Python 3",
   "language": "python",
   "name": "python3"
  },
  "language_info": {
   "codemirror_mode": {
    "name": "ipython",
    "version": 3
   },
   "file_extension": ".py",
   "mimetype": "text/x-python",
   "name": "python",
   "nbconvert_exporter": "python",
   "pygments_lexer": "ipython3",
   "version": "3.6.8"
  }
 },
 "nbformat": 4,
 "nbformat_minor": 2
}
